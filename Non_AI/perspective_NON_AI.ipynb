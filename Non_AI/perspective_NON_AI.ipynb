{
  "nbformat": 4,
  "nbformat_minor": 0,
  "metadata": {
    "colab": {
      "provenance": []
    },
    "kernelspec": {
      "name": "python3",
      "display_name": "Python 3"
    },
    "language_info": {
      "name": "python"
    }
  },
  "cells": [
    {
      "cell_type": "code",
      "execution_count": null,
      "metadata": {
        "id": "Lg8_NxJZhBtD"
      },
      "outputs": [],
      "source": [
        "import gdown\n",
        "import zipfile"
      ]
    },
    {
      "cell_type": "code",
      "source": [
        "from google.colab import drive\n",
        "drive.mount('/content/drive')\n"
      ],
      "metadata": {
        "colab": {
          "base_uri": "https://localhost:8080/"
        },
        "id": "ERIha-K4hJvL",
        "outputId": "bddfcab2-4be1-44ce-db16-1c506869e25b"
      },
      "execution_count": 1,
      "outputs": [
        {
          "output_type": "stream",
          "name": "stdout",
          "text": [
            "Mounted at /content/drive\n"
          ]
        }
      ]
    },
    {
      "cell_type": "code",
      "source": [
        "import os\n",
        "os.chdir('/content/drive/MyDrive/Screws_2024_07_15')\n"
      ],
      "metadata": {
        "id": "ulPVlduYjWFL"
      },
      "execution_count": null,
      "outputs": []
    },
    {
      "cell_type": "code",
      "source": [
        "!pip install opencv-python\n"
      ],
      "metadata": {
        "colab": {
          "base_uri": "https://localhost:8080/"
        },
        "id": "3KtV4Cxejxve",
        "outputId": "f7ec9f70-4848-4c4f-9d04-b1050b2009d1"
      },
      "execution_count": null,
      "outputs": [
        {
          "output_type": "stream",
          "name": "stdout",
          "text": [
            "Requirement already satisfied: opencv-python in /usr/local/lib/python3.10/dist-packages (4.10.0.84)\n",
            "Requirement already satisfied: numpy>=1.21.2 in /usr/local/lib/python3.10/dist-packages (from opencv-python) (1.26.4)\n"
          ]
        }
      ]
    },
    {
      "cell_type": "code",
      "source": [
        "!pip install torch torchvision\n"
      ],
      "metadata": {
        "colab": {
          "base_uri": "https://localhost:8080/"
        },
        "id": "hjEo6DwbkfH_",
        "outputId": "a23ad1be-335d-4e1b-882b-809071005bd9"
      },
      "execution_count": null,
      "outputs": [
        {
          "output_type": "stream",
          "name": "stdout",
          "text": [
            "Requirement already satisfied: torch in /usr/local/lib/python3.10/dist-packages (2.3.1+cu121)\n",
            "Requirement already satisfied: torchvision in /usr/local/lib/python3.10/dist-packages (0.18.1+cu121)\n",
            "Requirement already satisfied: filelock in /usr/local/lib/python3.10/dist-packages (from torch) (3.15.4)\n",
            "Requirement already satisfied: typing-extensions>=4.8.0 in /usr/local/lib/python3.10/dist-packages (from torch) (4.12.2)\n",
            "Requirement already satisfied: sympy in /usr/local/lib/python3.10/dist-packages (from torch) (1.13.1)\n",
            "Requirement already satisfied: networkx in /usr/local/lib/python3.10/dist-packages (from torch) (3.3)\n",
            "Requirement already satisfied: jinja2 in /usr/local/lib/python3.10/dist-packages (from torch) (3.1.4)\n",
            "Requirement already satisfied: fsspec in /usr/local/lib/python3.10/dist-packages (from torch) (2024.6.1)\n",
            "Collecting nvidia-cuda-nvrtc-cu12==12.1.105 (from torch)\n",
            "  Using cached nvidia_cuda_nvrtc_cu12-12.1.105-py3-none-manylinux1_x86_64.whl.metadata (1.5 kB)\n",
            "Collecting nvidia-cuda-runtime-cu12==12.1.105 (from torch)\n",
            "  Using cached nvidia_cuda_runtime_cu12-12.1.105-py3-none-manylinux1_x86_64.whl.metadata (1.5 kB)\n",
            "Collecting nvidia-cuda-cupti-cu12==12.1.105 (from torch)\n",
            "  Using cached nvidia_cuda_cupti_cu12-12.1.105-py3-none-manylinux1_x86_64.whl.metadata (1.6 kB)\n",
            "Collecting nvidia-cudnn-cu12==8.9.2.26 (from torch)\n",
            "  Using cached nvidia_cudnn_cu12-8.9.2.26-py3-none-manylinux1_x86_64.whl.metadata (1.6 kB)\n",
            "Collecting nvidia-cublas-cu12==12.1.3.1 (from torch)\n",
            "  Using cached nvidia_cublas_cu12-12.1.3.1-py3-none-manylinux1_x86_64.whl.metadata (1.5 kB)\n",
            "Collecting nvidia-cufft-cu12==11.0.2.54 (from torch)\n",
            "  Using cached nvidia_cufft_cu12-11.0.2.54-py3-none-manylinux1_x86_64.whl.metadata (1.5 kB)\n",
            "Collecting nvidia-curand-cu12==10.3.2.106 (from torch)\n",
            "  Using cached nvidia_curand_cu12-10.3.2.106-py3-none-manylinux1_x86_64.whl.metadata (1.5 kB)\n",
            "Collecting nvidia-cusolver-cu12==11.4.5.107 (from torch)\n",
            "  Using cached nvidia_cusolver_cu12-11.4.5.107-py3-none-manylinux1_x86_64.whl.metadata (1.6 kB)\n",
            "Collecting nvidia-cusparse-cu12==12.1.0.106 (from torch)\n",
            "  Using cached nvidia_cusparse_cu12-12.1.0.106-py3-none-manylinux1_x86_64.whl.metadata (1.6 kB)\n",
            "Collecting nvidia-nccl-cu12==2.20.5 (from torch)\n",
            "  Using cached nvidia_nccl_cu12-2.20.5-py3-none-manylinux2014_x86_64.whl.metadata (1.8 kB)\n",
            "Collecting nvidia-nvtx-cu12==12.1.105 (from torch)\n",
            "  Using cached nvidia_nvtx_cu12-12.1.105-py3-none-manylinux1_x86_64.whl.metadata (1.7 kB)\n",
            "Requirement already satisfied: triton==2.3.1 in /usr/local/lib/python3.10/dist-packages (from torch) (2.3.1)\n",
            "Collecting nvidia-nvjitlink-cu12 (from nvidia-cusolver-cu12==11.4.5.107->torch)\n",
            "  Downloading nvidia_nvjitlink_cu12-12.5.82-py3-none-manylinux2014_x86_64.whl.metadata (1.5 kB)\n",
            "Requirement already satisfied: numpy in /usr/local/lib/python3.10/dist-packages (from torchvision) (1.26.4)\n",
            "Requirement already satisfied: pillow!=8.3.*,>=5.3.0 in /usr/local/lib/python3.10/dist-packages (from torchvision) (9.4.0)\n",
            "Requirement already satisfied: MarkupSafe>=2.0 in /usr/local/lib/python3.10/dist-packages (from jinja2->torch) (2.1.5)\n",
            "Requirement already satisfied: mpmath<1.4,>=1.1.0 in /usr/local/lib/python3.10/dist-packages (from sympy->torch) (1.3.0)\n",
            "Using cached nvidia_cublas_cu12-12.1.3.1-py3-none-manylinux1_x86_64.whl (410.6 MB)\n",
            "Using cached nvidia_cuda_cupti_cu12-12.1.105-py3-none-manylinux1_x86_64.whl (14.1 MB)\n",
            "Using cached nvidia_cuda_nvrtc_cu12-12.1.105-py3-none-manylinux1_x86_64.whl (23.7 MB)\n",
            "Using cached nvidia_cuda_runtime_cu12-12.1.105-py3-none-manylinux1_x86_64.whl (823 kB)\n",
            "Using cached nvidia_cudnn_cu12-8.9.2.26-py3-none-manylinux1_x86_64.whl (731.7 MB)\n",
            "Using cached nvidia_cufft_cu12-11.0.2.54-py3-none-manylinux1_x86_64.whl (121.6 MB)\n",
            "Using cached nvidia_curand_cu12-10.3.2.106-py3-none-manylinux1_x86_64.whl (56.5 MB)\n",
            "Using cached nvidia_cusolver_cu12-11.4.5.107-py3-none-manylinux1_x86_64.whl (124.2 MB)\n",
            "Using cached nvidia_cusparse_cu12-12.1.0.106-py3-none-manylinux1_x86_64.whl (196.0 MB)\n",
            "Using cached nvidia_nccl_cu12-2.20.5-py3-none-manylinux2014_x86_64.whl (176.2 MB)\n",
            "Using cached nvidia_nvtx_cu12-12.1.105-py3-none-manylinux1_x86_64.whl (99 kB)\n",
            "Downloading nvidia_nvjitlink_cu12-12.5.82-py3-none-manylinux2014_x86_64.whl (21.3 MB)\n",
            "\u001b[2K   \u001b[90m━━━━━━━━━━━━━━━━━━━━━━━━━━━━━━━━━━━━━━━━\u001b[0m \u001b[32m21.3/21.3 MB\u001b[0m \u001b[31m27.9 MB/s\u001b[0m eta \u001b[36m0:00:00\u001b[0m\n",
            "\u001b[?25hInstalling collected packages: nvidia-nvtx-cu12, nvidia-nvjitlink-cu12, nvidia-nccl-cu12, nvidia-curand-cu12, nvidia-cufft-cu12, nvidia-cuda-runtime-cu12, nvidia-cuda-nvrtc-cu12, nvidia-cuda-cupti-cu12, nvidia-cublas-cu12, nvidia-cusparse-cu12, nvidia-cudnn-cu12, nvidia-cusolver-cu12\n",
            "Successfully installed nvidia-cublas-cu12-12.1.3.1 nvidia-cuda-cupti-cu12-12.1.105 nvidia-cuda-nvrtc-cu12-12.1.105 nvidia-cuda-runtime-cu12-12.1.105 nvidia-cudnn-cu12-8.9.2.26 nvidia-cufft-cu12-11.0.2.54 nvidia-curand-cu12-10.3.2.106 nvidia-cusolver-cu12-11.4.5.107 nvidia-cusparse-cu12-12.1.0.106 nvidia-nccl-cu12-2.20.5 nvidia-nvjitlink-cu12-12.5.82 nvidia-nvtx-cu12-12.1.105\n"
          ]
        }
      ]
    },
    {
      "cell_type": "code",
      "source": [
        "import cv2\n",
        "import numpy as np\n",
        "import os\n",
        "\n",
        "# Path to your image directory and output directory\n",
        "image_directory = '/content/drive/MyDrive/Screws_2024_07_15'\n",
        "output_directory = '/content/drive/MyDrive/CountingChallenge/Non_AI/output'\n",
        "os.makedirs(output_directory, exist_ok=True)\n",
        "\n",
        "def process_image(image_path):\n",
        "    # Load image\n",
        "    image = cv2.imread(image_path)\n",
        "    if image is None:\n",
        "        print(f'Failed to load image: {image_path}')\n",
        "        return None, None, 0\n",
        "\n",
        "    gray = cv2.cvtColor(image, cv2.COLOR_BGR2GRAY)\n",
        "\n",
        "    # Image preprocessing\n",
        "    blurred = cv2.GaussianBlur(gray, (11, 11), 0)  # Adjusted blur kernel size\n",
        "\n",
        "    # Apply adaptive thresholding\n",
        "    thresh = cv2.adaptiveThreshold(blurred, 255, cv2.ADAPTIVE_THRESH_GAUSSIAN_C, cv2.THRESH_BINARY_INV, 11, 2)\n",
        "\n",
        "    # Morphological operations\n",
        "    kernel = np.ones((3, 3), np.uint8)  # Adjusted kernel size\n",
        "    morphed = cv2.morphologyEx(thresh, cv2.MORPH_CLOSE, kernel, iterations=2)\n",
        "    morphed = cv2.morphologyEx(morphed, cv2.MORPH_OPEN, kernel, iterations=1)\n",
        "\n",
        "    # Find contours\n",
        "    contours, _ = cv2.findContours(morphed, cv2.RETR_EXTERNAL, cv2.CHAIN_APPROX_SIMPLE)\n",
        "\n",
        "    # Debugging: Check number of contours found\n",
        "    print(f'Number of contours detected: {len(contours)}')\n",
        "\n",
        "    # Filter contours based on area\n",
        "    min_contour_area = 100  # Adjusted minimum contour area\n",
        "    max_contour_area = 5000  # Adjusted maximum contour area\n",
        "    filtered_contours = [c for c in contours if min_contour_area < cv2.contourArea(c) < max_contour_area]\n",
        "\n",
        "    # Debugging: Check filtered contours\n",
        "    print(f'Number of filtered contours: {len(filtered_contours)}')\n",
        "\n",
        "    # Create a mask image\n",
        "    mask = np.zeros_like(gray)\n",
        "    cv2.drawContours(mask, filtered_contours, -1, (255), thickness=cv2.FILLED)\n",
        "\n",
        "    # Create an output image with masks applied\n",
        "    output = cv2.bitwise_and(image, image, mask=mask)\n",
        "\n",
        "    # Count the number of contours\n",
        "    num_items = len(filtered_contours)\n",
        "\n",
        "    return output, mask, num_items\n",
        "\n",
        "# Iterate through images in the directory\n",
        "for filename in os.listdir(image_directory):\n",
        "    if filename.endswith('.jpg') or filename.endswith('.png'):\n",
        "        image_path = os.path.join(image_directory, filename)\n",
        "\n",
        "        # Process the image\n",
        "        output, mask, num_items = process_image(image_path)\n",
        "        if output is None:\n",
        "            continue\n",
        "\n",
        "        # Save the output image and mask\n",
        "        output_path = os.path.join(output_directory, 'output_' + filename)\n",
        "        mask_path = os.path.join(output_directory, 'mask_' + filename)\n",
        "        cv2.imwrite(output_path, output)\n",
        "        cv2.imwrite(mask_path, mask)\n",
        "\n",
        "        # Print the number of items\n",
        "        print(f'Number of items in {filename}: {num_items}')\n"
      ],
      "metadata": {
        "colab": {
          "base_uri": "https://localhost:8080/"
        },
        "id": "4uPjVEwLtYjT",
        "outputId": "dc3222fc-c47d-4835-ab5e-61e35a862422"
      },
      "execution_count": null,
      "outputs": [
        {
          "output_type": "stream",
          "name": "stdout",
          "text": [
            "Number of contours detected: 50\n",
            "Number of filtered contours: 49\n",
            "Number of items in img1.jpg: 49\n",
            "Number of contours detected: 48\n",
            "Number of filtered contours: 45\n",
            "Number of items in img4.jpg: 45\n",
            "Number of contours detected: 46\n",
            "Number of filtered contours: 44\n",
            "Number of items in img3.jpg: 44\n",
            "Number of contours detected: 49\n",
            "Number of filtered contours: 48\n",
            "Number of items in img1_43_nosy.jpg: 48\n",
            "Number of contours detected: 51\n",
            "Number of filtered contours: 49\n",
            "Number of items in img6.jpg: 49\n",
            "Number of contours detected: 48\n",
            "Number of filtered contours: 46\n",
            "Number of items in img2.jpg: 46\n",
            "Number of contours detected: 50\n",
            "Number of filtered contours: 47\n",
            "Number of items in img5.jpg: 47\n"
          ]
        }
      ]
    },
    {
      "cell_type": "code",
      "source": [
        "import cv2\n",
        "import numpy as np\n",
        "import os\n",
        "\n",
        "# Path to your image directory and output directory\n",
        "image_directory = '/content/drive/MyDrive/Screws_2024_07_15'\n",
        "output_directory = '/content/drive/MyDrive/CountingChallenge/Non_AI/output'\n",
        "os.makedirs(output_directory, exist_ok=True)\n",
        "\n",
        "def process_image(image_path):\n",
        "    # Load image\n",
        "    image = cv2.imread(image_path)\n",
        "    if image is None:\n",
        "        print(f'Failed to load image: {image_path}')\n",
        "        return None, 0\n",
        "\n",
        "    gray = cv2.cvtColor(image, cv2.COLOR_BGR2GRAY)\n",
        "\n",
        "    # Image preprocessing\n",
        "    blurred = cv2.GaussianBlur(gray, (11, 11), 0)\n",
        "\n",
        "    # Apply adaptive thresholding\n",
        "    thresh = cv2.adaptiveThreshold(blurred, 255, cv2.ADAPTIVE_THRESH_GAUSSIAN_C, cv2.THRESH_BINARY_INV, 11, 2)\n",
        "\n",
        "    # Morphological operations\n",
        "    kernel = np.ones((3, 3), np.uint8)\n",
        "    morphed = cv2.morphologyEx(thresh, cv2.MORPH_CLOSE, kernel, iterations=2)\n",
        "    morphed = cv2.morphologyEx(morphed, cv2.MORPH_OPEN, kernel, iterations=1)\n",
        "\n",
        "    # Find contours\n",
        "    contours, _ = cv2.findContours(morphed, cv2.RETR_EXTERNAL, cv2.CHAIN_APPROX_SIMPLE)\n",
        "\n",
        "    # Filter contours based on area\n",
        "    min_contour_area = 100\n",
        "    max_contour_area = 5000\n",
        "    filtered_contours = [c for c in contours if min_contour_area < cv2.contourArea(c) < max_contour_area]\n",
        "\n",
        "    # Draw bounding boxes around the detected screws\n",
        "    for contour in filtered_contours:\n",
        "        x, y, w, h = cv2.boundingRect(contour)\n",
        "        cv2.rectangle(image, (x, y), (x + w, y + h), (0, 255, 0), 2)\n",
        "\n",
        "    # Count the number of contours\n",
        "    num_items = len(filtered_contours)\n",
        "\n",
        "    return image, num_items\n",
        "\n",
        "# Iterate through images in the directory\n",
        "for filename in os.listdir(image_directory):\n",
        "    if filename.endswith('.jpg') or filename.endswith('.png'):\n",
        "        image_path = os.path.join(image_directory, filename)\n",
        "\n",
        "        # Process the image\n",
        "        output_image, num_items = process_image(image_path)\n",
        "        if output_image is None:\n",
        "            continue\n",
        "\n",
        "        # Save the output image with bounding boxes\n",
        "        output_path = os.path.join(output_directory, 'output_' + filename)\n",
        "        cv2.imwrite(output_path, output_image)\n",
        "\n",
        "        # Print the number of items detected\n",
        "        print(f'Number of items in {filename}: {num_items}')\n"
      ],
      "metadata": {
        "colab": {
          "base_uri": "https://localhost:8080/"
        },
        "id": "OxawATtvSdjg",
        "outputId": "08473878-c4d9-46fc-d103-b99a8bcccae9"
      },
      "execution_count": null,
      "outputs": [
        {
          "output_type": "stream",
          "name": "stdout",
          "text": [
            "Number of items in img1.jpg: 49\n",
            "Number of items in img4.jpg: 45\n",
            "Number of items in img3.jpg: 44\n",
            "Number of items in img1_43_nosy.jpg: 48\n",
            "Number of items in img6.jpg: 49\n",
            "Number of items in img2.jpg: 46\n",
            "Number of items in img5.jpg: 47\n"
          ]
        }
      ]
    }
  ]
}